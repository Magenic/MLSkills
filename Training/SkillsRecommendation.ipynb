{
 "cells": [
  {
   "cell_type": "code",
   "execution_count": 1,
   "metadata": {},
   "outputs": [
    {
     "data": {
      "text/html": [
       "\r\n",
       "<div>\r\n",
       "    <div id='dotnet-interactive-this-cell-9658.885eedb9bbea420d8b0080bdf91ec2f9' style='display: none'>\r\n",
       "        The below script needs to be able to find the current output cell; this is an easy method to get it.\r\n",
       "    </div>\r\n",
       "    <script type='text/javascript'>\r\n",
       "// ensure `require` is available globally\r\n",
       "if (typeof require !== typeof Function || typeof require.config !== typeof Function) {\r\n",
       "    let require_script = document.createElement('script');\r\n",
       "    require_script.setAttribute('src', 'https://cdnjs.cloudflare.com/ajax/libs/require.js/2.3.6/require.min.js');\r\n",
       "    require_script.setAttribute('type', 'text/javascript');\r\n",
       "    require_script.onload = function () {\r\n",
       "        loadDotnetInteractiveApi();\r\n",
       "    };\r\n",
       "\r\n",
       "    document.getElementsByTagName('head')[0].appendChild(require_script);\r\n",
       "}\r\n",
       "else {\r\n",
       "    loadDotnetInteractiveApi();\r\n",
       "}\r\n",
       "\r\n",
       "async function probeAddresses(probingAddresses) {\r\n",
       "    function timeout(ms, promise) {\r\n",
       "        return new Promise(function (resolve, reject) {\r\n",
       "            setTimeout(function () {\r\n",
       "                reject(new Error('timeout'))\r\n",
       "            }, ms)\r\n",
       "            promise.then(resolve, reject)\r\n",
       "        })\r\n",
       "    }\r\n",
       "\r\n",
       "    if (Array.isArray(probingAddresses)) {\r\n",
       "        for (let i = 0; i < probingAddresses.length; i++) {\r\n",
       "\r\n",
       "            let rootUrl = probingAddresses[i];\r\n",
       "\r\n",
       "            if (!rootUrl.endsWith('/')) {\r\n",
       "                rootUrl = `${rootUrl}/`;\r\n",
       "            }\r\n",
       "\r\n",
       "            try {\r\n",
       "                let response = await timeout(1000, fetch(`${rootUrl}discovery`, {\r\n",
       "                    method: 'POST',\r\n",
       "                    cache: 'no-cache',\r\n",
       "                    mode: 'cors',\r\n",
       "                    timeout: 1000,\r\n",
       "                    headers: {\r\n",
       "                        'Content-Type': 'text/plain'\r\n",
       "                    },\r\n",
       "                    body: probingAddresses[i]\r\n",
       "                }));\r\n",
       "\r\n",
       "                if (response.status == 200) {\r\n",
       "                    return rootUrl;\r\n",
       "                }\r\n",
       "            }\r\n",
       "            catch (e) { }\r\n",
       "        }\r\n",
       "    }\r\n",
       "}\r\n",
       "\r\n",
       "function loadDotnetInteractiveApi() {\r\n",
       "    probeAddresses([\"http://192.168.1.103:1025/\", \"http://10.42.10.6:1025/\", \"http://127.0.0.1:1025/\"])\r\n",
       "        .then((root) => {\r\n",
       "            // use probing to find host url and api resources\r\n",
       "            // load interactive helpers and language services\r\n",
       "            let dotnet_require = require.config({\r\n",
       "                context: '9658.885eedb9bbea420d8b0080bdf91ec2f9',\r\n",
       "                paths: {\r\n",
       "                    'dotnet-interactive': `${root}resources`\r\n",
       "                }\r\n",
       "            }) || require;\r\n",
       "            if (!window.dotnet_require) {\r\n",
       "                window.dotnet_require = dotnet_require;\r\n",
       "            }\r\n",
       "        \r\n",
       "            dotnet_require([\r\n",
       "                    'dotnet-interactive/dotnet-interactive'\r\n",
       "                ],\r\n",
       "                function (dotnet) {\r\n",
       "                    dotnet.init(window);\r\n",
       "                },\r\n",
       "                function (error) {\r\n",
       "                    console.log(error);\r\n",
       "                }\r\n",
       "            );\r\n",
       "        })\r\n",
       "        .catch(error => {console.log(error);});\r\n",
       "    }\r\n",
       "    </script>\r\n",
       "</div>"
      ]
     },
     "metadata": {},
     "output_type": "display_data"
    },
    {
     "data": {
      "text/plain": [
       "Installed package Microsoft.ML version 1.5.1"
      ]
     },
     "metadata": {},
     "output_type": "display_data"
    },
    {
     "data": {
      "text/plain": [
       "Installed package Microsoft.ML.Recommender version 0.17.1"
      ]
     },
     "metadata": {},
     "output_type": "display_data"
    }
   ],
   "source": [
    "#r \"nuget:Microsoft.ML,1.5.1\"\n",
    "#r \"nuget:Microsoft.ML.Recommender\"\n",
    "    \n",
    "using System;\n",
    "using System.Collections.Generic;\n",
    "using System.Drawing;\n",
    "using System.IO;\n",
    "using System.Text;\n",
    "using Microsoft.ML;\n",
    "using Microsoft.ML.Data;\n",
    "using Microsoft.ML.Trainers;"
   ]
  },
  {
   "cell_type": "code",
   "execution_count": 2,
   "metadata": {},
   "outputs": [],
   "source": [
    "public class MagenicSkill\n",
    "{\n",
    "    [LoadColumn(0)]\n",
    "    public String PersonnelNumber;\n",
    "    [LoadColumn(2)]\n",
    "    public float SkillId;\n",
    "    [LoadColumn(3)]\n",
    "    public float SkillLevel;\n",
    "}\n",
    "\n",
    "public class SkillPrediction\n",
    "{\n",
    "    public String PersonnelNumber;\n",
    "    public float Score;\n",
    "}"
   ]
  },
  {
   "cell_type": "code",
   "execution_count": 3,
   "metadata": {},
   "outputs": [
    {
     "name": "stdout",
     "output_type": "stream",
     "text": [
      "Microsoft.ML.DataViewRowCursor[]\n"
     ]
    }
   ],
   "source": [
    "MLContext mlContext = new MLContext();\n",
    "\n",
    "var dataPath = Path.Combine(Environment.CurrentDirectory, \"Data\", \"Magenic_Min_Skills.csv\");\n",
    "\n",
    "IDataView dataView = mlContext.Data.LoadFromTextFile<MagenicSkill>(dataPath, hasHeader: true, separatorChar: ',');\n",
    "\n",
    "var requestedColumns = new List<DataViewSchema.Column>();\n",
    "\n",
    "var cursor = dataView.GetRowCursorSet(requestedColumns, 0);\n",
    "\n",
    "Console.WriteLine(cursor);\n",
    "\n",
    "var split = mlContext.Data\n",
    "    .TrainTestSplit(dataView, testFraction: 0.2,\n",
    "    samplingKeyColumnName: \"PersonnelNumber\");\n",
    "\n",
    "var trainSet = mlContext.Data\n",
    "    .CreateEnumerable<MagenicSkill>(split.TrainSet, reuseRowObject: false);\n",
    "\n",
    "var testSet = mlContext.Data\n",
    "    .CreateEnumerable<MagenicSkill>(split.TestSet,reuseRowObject: false);\n",
    "    \n",
    "var trainLoader = mlContext.Data.LoadFromEnumerable<MagenicSkill>(trainSet);\n",
    "\n",
    "var testLoader = mlContext.Data.LoadFromEnumerable<MagenicSkill>(testSet);"
   ]
  },
  {
   "cell_type": "code",
   "execution_count": 4,
   "metadata": {},
   "outputs": [],
   "source": [
    "public static void ConsoleWriteHeader(params string[] lines)\n",
    "{\n",
    "    var defaultColor = Console.ForegroundColor;\n",
    "    Console.ForegroundColor = ConsoleColor.Yellow;\n",
    "    Console.WriteLine(\" \");\n",
    "    foreach (var line in lines)\n",
    "    {\n",
    "        Console.WriteLine(line);\n",
    "    }\n",
    "    var maxLength = lines.Select(x => x.Length).Max();\n",
    "    Console.WriteLine(new string('#', maxLength));\n",
    "    Console.ForegroundColor = defaultColor;\n",
    "}\n",
    "\n",
    "public static void PeekDataViewInConsole(MLContext mlContext, IDataView dataView, IEstimator<ITransformer> pipeline, int numberOfRows = 4)\n",
    "{\n",
    "    string msg = string.Format(\"Peek data in DataView: Showing {0} rows with the columns\", numberOfRows.ToString());\n",
    "    ConsoleWriteHeader(msg);\n",
    "\n",
    "    //https://github.com/dotnet/machinelearning/blob/master/docs/code/MlNetCookBook.md#how-do-i-look-at-the-intermediate-data\n",
    "    var transformer = pipeline.Fit(dataView);\n",
    "    var preparedData = transformer.Transform(dataView);\n",
    "\n",
    "    // 'preparedData' is a 'promise' of data, lazy-loading. call Preview  \n",
    "    //and iterate through the returned collection from preview.\n",
    "\n",
    "    var preViewpreparedData = preparedData.Preview(maxRows: numberOfRows);\n",
    "\n",
    "    foreach (var row in preViewpreparedData.RowView)\n",
    "    {\n",
    "        var ColumnCollection = row.Values;\n",
    "        string lineToPrint = \"Row--> \";\n",
    "        foreach (KeyValuePair<string, object> column in ColumnCollection)\n",
    "        {\n",
    "            lineToPrint += $\"| {column.Key}:{column.Value}\";\n",
    "        }\n",
    "        Console.WriteLine(lineToPrint + \"\\n\");\n",
    "    }\n",
    "}"
   ]
  },
  {
   "cell_type": "code",
   "execution_count": 9,
   "metadata": {},
   "outputs": [
    {
     "name": "stdout",
     "output_type": "stream",
     "text": [
      " \n",
      "Peek data in DataView: Showing 10 rows with the columns\n",
      "#######################################################\n",
      "Row--> | PersonnelNumber:E00267| SkillId:14| SkillLevel:3| PersonnelNumberEncoded:1| SkillIdEncoded:1\n",
      "\n",
      "Row--> | PersonnelNumber:E00267| SkillId:47| SkillLevel:3| PersonnelNumberEncoded:1| SkillIdEncoded:2\n",
      "\n",
      "Row--> | PersonnelNumber:E00267| SkillId:50| SkillLevel:3| PersonnelNumberEncoded:1| SkillIdEncoded:3\n",
      "\n",
      "Row--> | PersonnelNumber:E00267| SkillId:56| SkillLevel:3| PersonnelNumberEncoded:1| SkillIdEncoded:4\n",
      "\n",
      "Row--> | PersonnelNumber:E00267| SkillId:137| SkillLevel:3| PersonnelNumberEncoded:1| SkillIdEncoded:5\n",
      "\n",
      "Row--> | PersonnelNumber:E00267| SkillId:139| SkillLevel:3| PersonnelNumberEncoded:1| SkillIdEncoded:6\n",
      "\n",
      "Row--> | PersonnelNumber:E00267| SkillId:191| SkillLevel:3| PersonnelNumberEncoded:1| SkillIdEncoded:7\n",
      "\n",
      "Row--> | PersonnelNumber:E00267| SkillId:265| SkillLevel:3| PersonnelNumberEncoded:1| SkillIdEncoded:8\n",
      "\n",
      "Row--> | PersonnelNumber:E00267| SkillId:337| SkillLevel:3| PersonnelNumberEncoded:1| SkillIdEncoded:9\n",
      "\n",
      "Row--> | PersonnelNumber:E00267| SkillId:336| SkillLevel:3| PersonnelNumberEncoded:1| SkillIdEncoded:10\n",
      "\n"
     ]
    }
   ],
   "source": [
    "IEstimator<ITransformer> estimator = mlContext.Transforms.Conversion.MapValueToKey(outputColumnName: \"PersonnelNumberEncoded\", inputColumnName: \"PersonnelNumber\")\n",
    "    .Append(mlContext.Transforms.Conversion.MapValueToKey(outputColumnName: \"SkillIdEncoded\", inputColumnName: \"SkillId\"));\n",
    "PeekDataViewInConsole(mlContext, trainLoader, estimator, 10);\n",
    "\n",
    "var options = new MatrixFactorizationTrainer.Options\n",
    "{\n",
    "    MatrixColumnIndexColumnName = \"PersonnelNumberEncoded\",\n",
    "    MatrixRowIndexColumnName = \"SkillId\",\n",
    "    LabelColumnName = \"SkillLevel\",\n",
    "    NumberOfIterations = 200,\n",
    "    ApproximationRank = 100\n",
    "};\n",
    "\n",
    "//var trainerEstimator = estimator.Append(mlContext.Recommendation().Trainers.MatrixFactorization(options));\n",
    "\n",
    "//var trainerEstimator = estimator.Append(mlContext.BinaryClassification.Trainers.FieldAwareFactorizationMachine(new string[] { \"SkillId\" }));\n",
    "//var model = estimator.Fit(trainLoader);\n",
    "\n",
    "var trainerEstimator = estimator.Append(mlContext.Recommendation().Trainers.MatrixFactorization(options));\n",
    "ITransformer model = estimator.Fit(trainLoader);\n"
   ]
  },
  {
   "cell_type": "code",
   "execution_count": 15,
   "metadata": {},
   "outputs": [
    {
     "name": "stdout",
     "output_type": "stream",
     "text": [
      "\n",
      "PersonnelNumber: String\n"
     ]
    },
    {
     "ename": "Unhandled exception",
     "evalue": "System.ArgumentOutOfRangeException: Score column 'Score' not found (Parameter 'schema')\n   at Microsoft.ML.Data.RoleMappedSchema.MapFromNames(DataViewSchema schema, IEnumerable`1 roles, Boolean opt)\n   at Microsoft.ML.Data.RoleMappedSchema..ctor(DataViewSchema schema, IEnumerable`1 roles, Boolean opt)\n   at Microsoft.ML.Data.RoleMappedData..ctor(IDataView data, Boolean opt, KeyValuePair`2[] roles)\n   at Microsoft.ML.Data.RegressionEvaluator.Evaluate(IDataView data, String label, String score)\n   at Microsoft.ML.RegressionCatalog.Evaluate(IDataView data, String labelColumnName, String scoreColumnName)\n   at Submission#19.<<Initialize>>d__0.MoveNext()\n--- End of stack trace from previous location where exception was thrown ---\n   at Microsoft.CodeAnalysis.Scripting.ScriptExecutionState.RunSubmissionsAsync[TResult](ImmutableArray`1 precedingExecutors, Func`2 currentExecutor, StrongBox`1 exceptionHolderOpt, Func`2 catchExceptionOpt, CancellationToken cancellationToken)",
     "output_type": "error",
     "traceback": [
      "System.ArgumentOutOfRangeException: Score column 'Score' not found (Parameter 'schema')\n   at Microsoft.ML.Data.RoleMappedSchema.MapFromNames(DataViewSchema schema, IEnumerable`1 roles, Boolean opt)\n   at Microsoft.ML.Data.RoleMappedSchema..ctor(DataViewSchema schema, IEnumerable`1 roles, Boolean opt)\n   at Microsoft.ML.Data.RoleMappedData..ctor(IDataView data, Boolean opt, KeyValuePair`2[] roles)\n   at Microsoft.ML.Data.RegressionEvaluator.Evaluate(IDataView data, String label, String score)\n   at Microsoft.ML.RegressionCatalog.Evaluate(IDataView data, String labelColumnName, String scoreColumnName)\n   at Submission#19.<<Initialize>>d__0.MoveNext()\n--- End of stack trace from previous location where exception was thrown ---\n   at Microsoft.CodeAnalysis.Scripting.ScriptExecutionState.RunSubmissionsAsync[TResult](ImmutableArray`1 precedingExecutors, Func`2 currentExecutor, StrongBox`1 exceptionHolderOpt, Func`2 catchExceptionOpt, CancellationToken cancellationToken)",
      "   at Microsoft.ML.Data.RoleMappedSchema.MapFromNames(DataViewSchema schema, IEnumerable`1 roles, Boolean opt)",
      "   at Microsoft.ML.Data.RoleMappedSchema..ctor(DataViewSchema schema, IEnumerable`1 roles, Boolean opt)",
      "   at Microsoft.ML.Data.RoleMappedData..ctor(IDataView data, Boolean opt, KeyValuePair`2[] roles)",
      "   at Microsoft.ML.Data.RegressionEvaluator.Evaluate(IDataView data, String label, String score)",
      "   at Microsoft.ML.RegressionCatalog.Evaluate(IDataView data, String labelColumnName, String scoreColumnName)",
      "   at Submission#19.<<Initialize>>d__0.MoveNext()",
      "--- End of stack trace from previous location where exception was thrown ---",
      "   at Microsoft.CodeAnalysis.Scripting.ScriptExecutionState.RunSubmissionsAsync[TResult](ImmutableArray`1 precedingExecutors, Func`2 currentExecutor, StrongBox`1 exceptionHolderOpt, Func`2 catchExceptionOpt, CancellationToken cancellationToken)"
     ]
    }
   ],
   "source": [
    "Color color = Color.FromArgb(130,150,115);\n",
    "\n",
    "var prediction = model.Transform(testLoader);\n",
    "\n",
    "var metrics = mlContext.Regression.Evaluate(prediction, labelColumnName: \"Label\", scoreColumnName: \"Score\");\n",
    "\n",
    "Console.WriteLine(prediction.GetRowCount());\n",
    "Console.WriteLine(prediction.Schema[0]);\n",
    "\n",
    "var metrics = mlContext.Regression.Evaluate(prediction, labelColumnName: \"SkillLevel\", scoreColumnName: \"Score\");\n",
    "//var metrics = mlContext.BinaryClassification.Evaluate(data: prediction, labelColumnName: \"PersonnelNumberEncoded\", predictedLabelColumnName: \"SkillId\");\n",
    "//Console.WriteLine(\"Evaluation Metrics: acc:\" + Math.Round(metrics.Accuracy, 2) + \" AreaUnderRocCurve(AUC):\" + Math.Round(metrics.AreaUnderRocCurve, 2),color);\n",
    "            \n",
    "Console.WriteLine(\"Root Mean Squared Error : \" + metrics.RootMeanSquaredError.ToString());\n",
    "Console.WriteLine(\"RSquared: \" + metrics.RSquared.ToString());"
   ]
  },
  {
   "cell_type": "code",
   "execution_count": null,
   "metadata": {},
   "outputs": [],
   "source": []
  }
 ],
 "metadata": {
  "kernelspec": {
   "display_name": ".NET (C#)",
   "language": "C#",
   "name": ".net-csharp"
  },
  "language_info": {
   "file_extension": ".cs",
   "mimetype": "text/x-csharp",
   "name": "C#",
   "pygments_lexer": "csharp",
   "version": "8.0"
  }
 },
 "nbformat": 4,
 "nbformat_minor": 4
}
